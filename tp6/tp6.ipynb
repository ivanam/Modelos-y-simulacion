{
 "cells": [
  {
   "cell_type": "code",
   "execution_count": null,
   "metadata": {
    "collapsed": true
   },
   "outputs": [],
   "source": []
  },
  {
   "cell_type": "code",
   "execution_count": 10,
   "metadata": {},
   "outputs": [
    {
     "name": "stdout",
     "output_type": "stream",
     "text": [
      "Inicio de Simulacion 30 anios con 250 dias habiles cada uno\n",
      "\tPromedios con Stock minimo 50 -> Turnos=23 Costo Mantenimiento=504211.33\n",
      "\tPromedios con Stock minimo 60 -> Turnos=24 Costo Mantenimiento=561587.33\n",
      "\tPromedios con Stock minimo 70 -> Turnos=23 Costo Mantenimiento=609506.67\n"
     ]
    }
   ],
   "source": [
    "import numpy as np\n",
    "import matplotlib.pyplot as plt\n",
    "\n",
    "CANT_ANIOS = 30\n",
    "DIAS_DEL_ANIO = 250\n",
    "\n",
    "PRODUCCION = {\n",
    "    'cantidad_turnos':1,\n",
    "    'por_turno': 100,\n",
    "    'por_turno_doble': 200\n",
    "}\n",
    "DEMANDA_DIARIA = {\n",
    "    'funcion':np.random.normal,\n",
    "    'parametros': {'loc':110, 'scale':20} # loc media   scae desvio\n",
    "}\n",
    "INVENTARIO = {\n",
    "    'minimo':[50, 60, 70],\n",
    "    'costo_por_unidad': 20,\n",
    "    'stock_inicial':80\n",
    "}\n",
    "\n",
    "def simulacion(minimo):\n",
    "    turnos_total = []\n",
    "    costo_unidad_total = []    \n",
    "    for i in range(CANT_ANIOS):\n",
    "        turnos_total.append(0)  #contador arranca en 0\n",
    "        costo_unidad_total.append(INVENTARIO['stock_inicial'] * INVENTARIO['costo_por_unidad'])\n",
    "        inventario_inicial = INVENTARIO['stock_inicial']\n",
    "        for y in range(DIAS_DEL_ANIO):\n",
    "            demanda_aleatoria = int(DEMANDA_DIARIA['funcion'](**DEMANDA_DIARIA['parametros']))\n",
    "            if inventario_inicial < minimo:\n",
    "                turnos_total[i] += 1\n",
    "                inventario_inicial += PRODUCCION['por_turno_doble'] \n",
    "            else:\n",
    "                inventario_inicial += PRODUCCION['por_turno']\n",
    "            inventario_inicial -= demanda_aleatoria        \n",
    "            costo_unidad_total[i] += inventario_inicial * INVENTARIO['costo_por_unidad']\n",
    "    return {'promedio_turnos':np.average(turnos_total), 'promedio_costos_unidad': np.average(costo_unidad_total)}\n",
    "\n",
    "def mostrar(minimo, turnos, costo_unidad):\n",
    "    print \"\\tPromedios con Stock minimo %d -> Turnos=%d Costo Mantenimiento=%.2f\"%(minimo, turnos, costo_unidad)\n",
    "    \n",
    "\n",
    "if __name__ == '__main__':\n",
    "    print \"Inicio de Simulacion %d anios con %d dias habiles cada uno\" %(CANT_ANIOS, DIAS_DEL_ANIO)\n",
    "    for minimo in INVENTARIO['minimo']:\n",
    "        prom_turnos, prom_costo_unidad= simulacion(minimo).values()\n",
    "        mostrar(minimo, prom_turnos, prom_costo_unidad)"
   ]
  },
  {
   "cell_type": "code",
   "execution_count": null,
   "metadata": {
    "collapsed": true
   },
   "outputs": [],
   "source": []
  },
  {
   "cell_type": "code",
   "execution_count": null,
   "metadata": {
    "collapsed": true
   },
   "outputs": [],
   "source": []
  },
  {
   "cell_type": "code",
   "execution_count": null,
   "metadata": {
    "collapsed": true
   },
   "outputs": [],
   "source": []
  },
  {
   "cell_type": "code",
   "execution_count": null,
   "metadata": {
    "collapsed": true
   },
   "outputs": [],
   "source": []
  }
 ],
 "metadata": {
  "kernelspec": {
   "display_name": "Python 2",
   "language": "python",
   "name": "python2"
  },
  "language_info": {
   "codemirror_mode": {
    "name": "ipython",
    "version": 2
   },
   "file_extension": ".py",
   "mimetype": "text/x-python",
   "name": "python",
   "nbconvert_exporter": "python",
   "pygments_lexer": "ipython2",
   "version": "2.7.12"
  }
 },
 "nbformat": 4,
 "nbformat_minor": 2
}
