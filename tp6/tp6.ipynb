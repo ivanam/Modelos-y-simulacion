{
 "cells": [
  {
   "cell_type": "code",
   "execution_count": null,
   "metadata": {
    "collapsed": true
   },
   "outputs": [],
   "source": []
  },
  {
   "cell_type": "code",
   "execution_count": 3,
   "metadata": {},
   "outputs": [
    {
     "name": "stdout",
     "output_type": "stream",
     "text": [
      "Stock minimo 50\n",
      "Promedio cantidad de turnos  24\n",
      "Promedio Costo de Manteniemitno de Stock 514496.67\n",
      "Stock minimo 60\n",
      "Promedio cantidad de turnos  24\n",
      "Promedio Costo de Manteniemitno de Stock 567730.67\n",
      "Stock minimo 70\n",
      "Promedio cantidad de turnos  24\n",
      "Promedio Costo de Manteniemitno de Stock 630607.33\n"
     ]
    }
   ],
   "source": [
    "import numpy as np\n",
    "import matplotlib.pyplot as plt\n",
    "\n",
    "CANT_ANIOS = 30\n",
    "DIAS_DEL_ANIO = 255\n",
    "\n",
    "PRODUCCION = {\n",
    "    'cantidad_turnos':1,\n",
    "    'por_turno': 100\n",
    "}\n",
    "DEMANDA_DIARIA = {\n",
    "    'funcion':np.random.normal,\n",
    "    'parametros': {'loc':110, 'scale':20} # loc media   scae desvio\n",
    "}\n",
    "INVENTARIO = {\n",
    "    'minimo':[50, 60, 70],\n",
    "    'costo_por_unidad': 20,\n",
    "    'stock_inicial':80\n",
    "}\n",
    "\n",
    "def main(minimo):\n",
    "    turnos_total = []\n",
    "    costo_unidad_total = []\n",
    "    \n",
    "    for i in range(CANT_ANIOS):\n",
    "        turnos_total.append(0)  \n",
    "        costo_unidad_total.append(INVENTARIO['stock_inicial'] * INVENTARIO['costo_por_unidad'])\n",
    "        inventario_inicial = INVENTARIO['stock_inicial']\n",
    "        for y in range(DIAS_DEL_ANIO):\n",
    "            demanda_aleatoria = int(DEMANDA_DIARIA['funcion'](**DEMANDA_DIARIA['parametros']))\n",
    "            if inventario_inicial < minimo:\n",
    "                turnos_total[i] += 1\n",
    "                inventario_inicial += PRODUCCION['por_turno'] * 2\n",
    "            else:\n",
    "                inventario_inicial += PRODUCCION['por_turno']\n",
    "            inventario_inicial -= demanda_aleatoria        \n",
    "            costo_unidad_total[i] += inventario_inicial * INVENTARIO['costo_por_unidad']\n",
    "    promedio_turnos = np.average(turnos_total)\n",
    "    promedio_costos_unidad = np.average(costo_unidad_total)\n",
    "    print \"Stock minimo %d\"%(minimo)\n",
    "    print \"Promedio cantidad de turnos  %d\"%(promedio_turnos)\n",
    "    print \"Promedio Costo de Manteniemitno de Stock %.2f\" %(promedio_costos_unidad)\n",
    "    \n",
    "\n",
    "if __name__ == '__main__':\n",
    "    for minimo in INVENTARIO['minimo']:\n",
    "        main(minimo)"
   ]
  },
  {
   "cell_type": "code",
   "execution_count": null,
   "metadata": {
    "collapsed": true
   },
   "outputs": [],
   "source": []
  },
  {
   "cell_type": "code",
   "execution_count": null,
   "metadata": {
    "collapsed": true
   },
   "outputs": [],
   "source": []
  },
  {
   "cell_type": "code",
   "execution_count": null,
   "metadata": {
    "collapsed": true
   },
   "outputs": [],
   "source": []
  },
  {
   "cell_type": "code",
   "execution_count": null,
   "metadata": {
    "collapsed": true
   },
   "outputs": [],
   "source": []
  }
 ],
 "metadata": {
  "kernelspec": {
   "display_name": "Python 2",
   "language": "python",
   "name": "python2"
  },
  "language_info": {
   "codemirror_mode": {
    "name": "ipython",
    "version": 2
   },
   "file_extension": ".py",
   "mimetype": "text/x-python",
   "name": "python",
   "nbconvert_exporter": "python",
   "pygments_lexer": "ipython2",
   "version": "2.7.12"
  }
 },
 "nbformat": 4,
 "nbformat_minor": 2
}
