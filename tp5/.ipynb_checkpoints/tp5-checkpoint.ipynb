{
 "cells": [
  {
   "cell_type": "code",
   "execution_count": 1,
   "metadata": {
    "collapsed": true
   },
   "outputs": [],
   "source": []
  },
  {
   "cell_type": "code",
   "execution_count": 148,
   "metadata": {},
   "outputs": [
    {
     "name": "stdout",
     "output_type": "stream",
     "text": [
      "Romper Huevos\n"
     ]
    },
    {
     "data": {
      "image/png": "[encoded data removed]",
      "text/plain": [
       "<matplotlib.figure.Figure at 0x7f5e907eec50>"
      ]
     },
     "metadata": {},
     "output_type": "display_data"
    }
   ],
   "source": [
    "import numpy as np\n",
    "import matplotlib.pyplot as plt\n",
    "from collections import deque\n",
    "from criticalpath import Node\n",
    "%matplotlib inline\n",
    "\n",
    "CANT_MUESTRAS= 1 # cantidad total de muestras a obtener\n",
    "TAM_MUESTRA = 100 # tamaño de cada muestra.\n",
    "\n",
    "GET_NOMBRE_TAREA = {\n",
    "    1:ROMPER_HUEVOS['nombre'],\n",
    "    2:REVOLVER_HUEVOS['nombre'],\n",
    "    3:COCINAR_HUEVOS['nombre'],\n",
    "    4:HACER_TOSTADAS['nombre'],\n",
    "    5:TOSTADAS_MANTEQUILLA['nombre'],\n",
    "    6:FREIR_TOCINO['nombre']\n",
    "}\n",
    "\n",
    "ROMPER_HUEVOS = {\n",
    "    'id':1,\n",
    "    'nombre':'Romper Huevos',\n",
    "    'low':2,\n",
    "    'high': 4,\n",
    "    'tiempos':[],\n",
    "    'predecesoras': []\n",
    "}\n",
    "REVOLVER_HUEVOS = {\n",
    "    'id':2,\n",
    "    'nombre':'Revolver Huevos',\n",
    "    'low':3,\n",
    "    'high': 6,\n",
    "    'tiempos':[],\n",
    "    'predecesoras': [1]\n",
    "}\n",
    "COCINAR_HUEVOS = {\n",
    "    'id':3,\n",
    "    'nombre':'Cocinar Huevos',\n",
    "    'low':2,\n",
    "    'high': 5,\n",
    "    'tiempos':[],\n",
    "    'predecesoras': [2]\n",
    "}\n",
    "HACER_TOSTADAS = {\n",
    "    'id':4,\n",
    "    'nombre':'Hacer Tostadas',\n",
    "    'low':3,\n",
    "    'high': 6,\n",
    "    'tiempos':[],\n",
    "    'predecesoras': []\n",
    "}\n",
    "TOSTADAS_MANTEQUILLA = {\n",
    "    'id':5,\n",
    "    'nombre':'Tostadas con Mantequilla',\n",
    "    'low':2,\n",
    "    'high': 6,\n",
    "    'tiempos':[],\n",
    "    'predecesoras': [4]\n",
    "}\n",
    "\n",
    "FREIR_TOCINO = {\n",
    "    'id':6,\n",
    "    'nombre':'Freir Tocino',\n",
    "    'low':4,\n",
    "    'high': 14,\n",
    "    'tiempos':[],\n",
    "    'predecesoras': []\n",
    "}\n",
    "TAREAS = [\n",
    "    ROMPER_HUEVOS, REVOLVER_HUEVOS, COCINAR_HUEVOS, HACER_TOSTADAS, TOSTADAS_MANTEQUILLA, FREIR_TOCINO\n",
    "]\n",
    "\n",
    "# Cada tarea tiene lista de timpos. tiempo.length == corridas que siguen distribucion uniform\n",
    "def generarTiempos(tareas, corridas):\n",
    "    for tarea in tareas:\n",
    "        tarea['tiempos'] = np.random.uniform(tarea['low'], tarea['high'], corridas) # [ini, fin)\n",
    "        \n",
    "# obtenemos ruta critica del proyecto con los tiempos previamente generados.\n",
    "\n",
    "def getNodo(nodos, id_tarea):\n",
    "    nodo = None\n",
    "    for i in range(len(nodos)):\n",
    "        if int(str(nodos[i])) == id_tarea:\n",
    "            nodo = nodos[i]\n",
    "            break\n",
    "    return nodo       \n",
    "    \n",
    "def getDuracionRutaCritica(tareas, indice_tiempo):\n",
    "    p = Node('project')\n",
    "    nodos = []\n",
    "    #creamos los nodos = Tareas\n",
    "    for tarea in tareas:\n",
    "        nodo = p.add(Node(tarea['id'], duration = tarea['tiempos'][indice_tiempo]))    \n",
    "        nodos.append(nodo)\n",
    "    #creamos los links = predecesoras\n",
    "    for tarea in tareas:\n",
    "        nodo_tarea = getNodo(nodos, tarea['id'])\n",
    "        for id_predecesora in tarea['predecesoras']:\n",
    "            nodo_tarea_predecesora = getNodo(nodos, id_predecesora)\n",
    "            p.link(nodo_tarea_predecesora, nodo_tarea)\n",
    "    p.update_all()\n",
    "    #print p.get_critical_path()\n",
    "    return p.duration\n",
    "\n",
    "def getMuestraProyecto(tareas, tam_muestra):\n",
    "    muestra_tiempos = []\n",
    "    for i in range(tam_muestra):\n",
    "        tiempo_un_proyecto = getDuracionRutaCritica(tareas, i)\n",
    "        muestra_tiempos.append(tiempo_un_proyecto)\n",
    "    #print \"Muestreo de tiempos %s\" % muestra_tiempos\n",
    "    return muestra_tiempos\n",
    "\n",
    "def getMuestras(tareas, cant_muestras, tam_muestra):\n",
    "    muestras = []\n",
    "    for i in range(cant_muestras):\n",
    "        muestras.append(getMuestraProyecto(tareas, tam_muestra))\n",
    "    return muestras\n",
    "\n",
    "def graficar(arreglo_muestras):    \n",
    "    plt.hist(arreglo_muestras[0], 14, normed=True)\n",
    "    \n",
    "if __name__ == '__main__':\n",
    "    generarTiempos(TAREAS, CORRIDAS)\n",
    "    muestras = getMuestras(TAREAS, CANT_MUESTRAS, TAM_MUESTRA) #muestras = [[muestra_1], [muestra_2]...[muestra_N]]\n",
    "    graficar(muestras)\n",
    "\n",
    "#plt.show()\n"
   ]
  },
  {
   "cell_type": "code",
   "execution_count": null,
   "metadata": {
    "collapsed": true
   },
   "outputs": [],
   "source": []
  },
  {
   "cell_type": "code",
   "execution_count": null,
   "metadata": {
    "collapsed": true
   },
   "outputs": [],
   "source": []
  },
  {
   "cell_type": "code",
   "execution_count": null,
   "metadata": {
    "collapsed": true
   },
   "outputs": [],
   "source": []
  },
  {
   "cell_type": "code",
   "execution_count": null,
   "metadata": {
    "collapsed": true
   },
   "outputs": [],
   "source": []
  }
 ],
 "metadata": {
  "kernelspec": {
   "display_name": "Python 2",
   "language": "python",
   "name": "python2"
  },
  "language_info": {
   "codemirror_mode": {
    "name": "ipython",
    "version": 2
   },
   "file_extension": ".py",
   "mimetype": "text/x-python",
   "name": "python",
   "nbconvert_exporter": "python",
   "pygments_lexer": "ipython2",
   "version": "2.7.12"
  }
 },
 "nbformat": 4,
 "nbformat_minor": 2
}
