import numpy as np
import matplotlib.pyplot as plt
from collections import deque
from criticalpath import Node

#s = np.random.poisson(70, 100)
#s = np.random.standard_exponential((8, 8000))

conver = {
    1:ROMPER_HUEVOS,
    2:REVOLVER_HUEVOS,
    3:COCINAR_HUEVOS,
    4:HACER_TOSTADAS,
    5:TOSTADAS_MANTEQUILLA,
    6:FREIR_TOCINO
}

ROMPER_HUEVOS = {
    'id':1,
    'nombre':'Romper Huevos',
    'low':2,
    'high': 4,
    'tiempos':[],
    'predesoras': []
}
REVOLVER_HUEVOS = {
    'id':2,
    'nombre':'Revolver Huevos',
    'low':3,
    'high': 6,
    'tiempos':[],
    'predesoras': [1]
}
COCINAR_HUEVOS = {
    'id':3,
    'nombre':'Cocinar Huevos',
    'low':2,
    'high': 5,
    'tiempos':[],
    'predesoras': [2]
}
HACER_TOSTADAS = {
    'id':4,
    'nombre':'Hacer Tostadas',
    'low':3,
    'high': 6,
    'tiempos':[],
    'predesoras': []
}
TOSTADAS_MANTEQUILLA = {
    'id':5,
    'nombre':'Tostadas con Mantequilla',
    'low':2,
    'high': 6,
    'tiempos':[],
    'predesoras': [4]
}

FREIR_TOCINO = {
    'id':6,
    'nombre':'Freir Tocino',
    'low':4,
    'high': 14,
    'tiempos':[],
    'predesoras': []
}
TAREAS = [
    ROMPER_HUEVOS, REVOLVER_HUEVOS, COCINAR_HUEVOS, HACER_TOSTADAS, TOSTADAS_MANTEQUILLA, FREIR_TOCINO
]

# Cada tarea tiene lista de timpos. tiempo.length == corridas que siguen distribucion uniform
def generarTiempos(tareas, corridas):
    for tarea in tareas:
        tarea['tiempos'] = np.random.uniform(tarea['low'], tarea['high'], corridas) # [ini, fin)

#obtenemos eventos: lista de tareas ordenadas por tempo de finalizacion.
def getColaEventos(tareas, indice):
    return deque(sorted(tareas, key= lambda tarea: tarea['tiempos'][indice]))        

#obtenemos las tareas que pueden iniciarse actualmente.
def getTareasSinPredecesoras(tareas):
    return filter(lambda tarea: not tarea['predesoras'], tareas)

def sacarPredecesoraPorId(tareas, id_tarea):
    for tarea in tareas:
        if id_tarea in tarea['predesoras']:
            tarea['predesoras'].remove(id_tarea)        
    return tareas

def getTareaFinalizada(tareas, indice):
    if not tareas:
        return None
    return min(tareas, key= lambda tarea: tarea['tiempos'][indice])

def sacarTareaPorId(tareas, id_tarea):
    return filter(lambda tarea: tarea['id'] != id_tarea,tareas)
    
def simularProyecto(tareas, indice):
    tareas_por_iniciar = getTareasSinPredecesoras(tareas)
    tarea_finalizada = getTareaFinalizada(tareas, indice)
    tiempo_proyecto = 0
    while tarea_finalizada:
        tiempo_proyecto += tarea_finalizada['tiempos'][indice] 
        tareas = sacarTareaPorId(tareas, tarea_finalizada['id'])
        tareas = sacarPredecesoraPorId(tareas, tarea_finalizada['id']) 
        tareas_por_iniciar = getTareasSinPredecesoras(tareas)
        tarea_finalizada = getTareaFinalizada(tareas_por_iniciar, indice);        
    print "tiempo proyecto %d"%tiempo_proyecto
    return tiempo_proyecto

def getDuracionRutaCritica(indice_tiempo):
    p = Node('project')
    a = p.add(Node('ROMPER_HUEVOS', duration = ROMPER_HUEVOS['tiempos'][indice_tiempo]))    
    b = p.add(Node('REVOLVER_HUEVOS', duration = REVOLVER_HUEVOS['tiempos'][indice_tiempo]))    
    c = p.add(Node('COCINAR_HUEVOS', duration = COCINAR_HUEVOS['tiempos'][indice_tiempo]))    
    d = p.add(Node('HACER_TOSTADAS', duration = HACER_TOSTADAS['tiempos'][indice_tiempo]))    
    e = p.add(Node('TOSTADAS_MANTEQUILLA', duration = TOSTADAS_MANTEQUILLA['tiempos'][indice_tiempo]))    
    f = p.add(Node('FREIR_TOCINO', duration = FREIR_TOCINO['tiempos'][indice_tiempo]))    
    print f
    p.link(a, b).link(b, c).link(d, e)
    p.update_all()
    print p.get_critical_path()
    return p.duration


def simular(n_corridas):
    muestra_tiempos = []
    for n_corrida in range(n_corridas):
        tiempo_un_proyecto = getDuracionRutaCritica(n_corrida)
        muestra_tiempos.append(tiempo_un_proyecto)
    print "Muestreo de tiempos %s" % muestra_tiempos
    
CORRIDAS= 1
generarTiempos(TAREAS, CORRIDAS)
tareas = map(lambda tarea:{'id':tarea['id'], 'tiempos': tarea['tiempos'], 
                           'predesoras':tarea['predesoras'], 'nombre':tarea['nombre']}, TAREAS)
#getDuracionRutaCritica(tareas, 0)
simular(CORRIDAS)


#%matplotlib inline
#plt.hist(s, 14, normed=True)
#plt.show()

